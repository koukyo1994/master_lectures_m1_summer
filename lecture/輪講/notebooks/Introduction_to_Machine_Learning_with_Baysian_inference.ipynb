{
 "cells": [
  {
   "cell_type": "markdown",
   "metadata": {},
   "source": [
    "## ベイズ推論による機械学習入門"
   ]
  },
  {
   "cell_type": "markdown",
   "metadata": {},
   "source": [
    "### 第二章 基本的な確率分布"
   ]
  },
  {
   "cell_type": "markdown",
   "metadata": {},
   "source": [
    "#### エントロピー\n",
    "\n",
    "定義\n",
    "\n",
    "$$\n",
    "  H\\left[ f(x)\\right] = -\\int p(x)\\ln p(x)dx\n",
    "$$"
   ]
  },
  {
   "cell_type": "markdown",
   "metadata": {},
   "source": [
    "エントロピーは確率分布の「乱雑さ」、あるいは「予測のしにくさ」を表す指標となっている。\n",
    "\n",
    "次のような例を考える。$p(x=0) = 1/3$、$p(x=1)=2/3$の時と、$p(x=0) = 1/2$、$p(x=1) = 1/2$の時のエントロピーを比べてみる。"
   ]
  },
  {
   "cell_type": "code",
   "execution_count": 4,
   "metadata": {},
   "outputs": [],
   "source": [
    "import numpy as np\n",
    "\n",
    "def entropy(x, p):\n",
    "    \"\"\"\n",
    "    arguments: \n",
    "      x: tuple\n",
    "      p: dict\n",
    "      \n",
    "    return:\n",
    "      e: float\n",
    "    \"\"\"\n",
    "    e = 0\n",
    "    for v in x:\n",
    "        e += p[v] * np.log(p[v])\n",
    "    return -e"
   ]
  },
  {
   "cell_type": "markdown",
   "metadata": {},
   "source": [
    "* $p(x=0) = 1/3$、$p(x=1) = 1/3$の場合"
   ]
  },
  {
   "cell_type": "code",
   "execution_count": 5,
   "metadata": {},
   "outputs": [
    {
     "name": "stdout",
     "output_type": "stream",
     "text": [
      "0.6365141682948128\n"
     ]
    }
   ],
   "source": [
    "x = (0, 1)\n",
    "p = {\n",
    "    0: 1/3,\n",
    "    1: 2/3\n",
    "}\n",
    "print(entropy(x, p))"
   ]
  },
  {
   "cell_type": "markdown",
   "metadata": {},
   "source": [
    "* $p(x = 0) = 1/2$、$p(x = 1) = 1/2$の場合"
   ]
  },
  {
   "cell_type": "code",
   "execution_count": 6,
   "metadata": {},
   "outputs": [
    {
     "name": "stdout",
     "output_type": "stream",
     "text": [
      "0.6931471805599453\n"
     ]
    }
   ],
   "source": [
    "x = (0, 1)\n",
    "p = {\n",
    "    0: 1/2,\n",
    "    1: 1/2\n",
    "}\n",
    "print(entropy(x, p))"
   ]
  },
  {
   "cell_type": "markdown",
   "metadata": {},
   "source": [
    "#### KLダイバージェンス\n",
    "\n",
    "定義\n",
    "\n",
    "２つの確率分布$p(x)$と$q(x)$の間に定義される指標\n",
    "\n",
    "$$\n",
    "  KL [q(x)||p(x)]=-\\int q(x)\\frac{p(x)}{q(x)}dx\n",
    "$$"
   ]
  },
  {
   "cell_type": "markdown",
   "metadata": {},
   "source": [
    "KLダイバージェンスは2つの分布の「距離」のような指標\n",
    "\n",
    "ただし距離の公理は満たさない"
   ]
  },
  {
   "cell_type": "markdown",
   "metadata": {},
   "source": [
    "#### サンプリングによる期待値の近似"
   ]
  },
  {
   "cell_type": "code",
   "execution_count": null,
   "metadata": {},
   "outputs": [],
   "source": []
  }
 ],
 "metadata": {
  "kernelspec": {
   "display_name": "Python 3",
   "language": "python",
   "name": "python3"
  },
  "language_info": {
   "codemirror_mode": {
    "name": "ipython",
    "version": 3
   },
   "file_extension": ".py",
   "mimetype": "text/x-python",
   "name": "python",
   "nbconvert_exporter": "python",
   "pygments_lexer": "ipython3",
   "version": "3.6.4"
  }
 },
 "nbformat": 4,
 "nbformat_minor": 2
}
