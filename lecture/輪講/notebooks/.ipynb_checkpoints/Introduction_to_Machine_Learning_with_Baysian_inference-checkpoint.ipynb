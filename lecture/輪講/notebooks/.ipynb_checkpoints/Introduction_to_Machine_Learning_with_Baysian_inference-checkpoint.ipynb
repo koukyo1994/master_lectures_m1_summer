{
 "cells": [
  {
   "cell_type": "markdown",
   "metadata": {},
   "source": [
    "## ベイズ推論による機械学習入門"
   ]
  },
  {
   "cell_type": "markdown",
   "metadata": {},
   "source": [
    "### 第二章 基本的な確率分布"
   ]
  },
  {
   "cell_type": "markdown",
   "metadata": {},
   "source": [
    "* 期待値\n",
    "\n",
    "定義\n",
    "\n",
    "$$\n",
    "  E\\[ f(x)\\]_{p(x)} = \\int f(x)p(x)dx\n",
    "$$"
   ]
  }
 ],
 "metadata": {
  "kernelspec": {
   "display_name": "Python 3",
   "language": "python",
   "name": "python3"
  },
  "language_info": {
   "codemirror_mode": {
    "name": "ipython",
    "version": 3
   },
   "file_extension": ".py",
   "mimetype": "text/x-python",
   "name": "python",
   "nbconvert_exporter": "python",
   "pygments_lexer": "ipython3",
   "version": "3.6.4"
  }
 },
 "nbformat": 4,
 "nbformat_minor": 2
}
