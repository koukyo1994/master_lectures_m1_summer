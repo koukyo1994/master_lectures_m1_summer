{
 "cells": [
  {
   "cell_type": "markdown",
   "metadata": {},
   "source": [
    "# Wine Quality コンペティション\n",
    "\n",
    "### コンペ概要\n",
    "ワインの特徴を示すいくつかの変数から質を予測するコンペです.\n",
    "(期間: 5/7まで)\n",
    "\n",
    "### 配布データ\n",
    "- train.csv: 訓練用のデータです. qualityのカラムの値を予測するモデルをそれ以外のカラムのデータを用いて構築してください.\n",
    "- test.csv: このファイルのデータに対して質(quality)を予測してもらいます.\n",
    "\n",
    "### 評価指標\n",
    "正解データとの平均二乗誤差で評価します.\n",
    "データ数: N, 真の値: y, 予測値: $y_{pred}$ とすると, 平均二乗誤差(MSE)は\n",
    "$$\n",
    "MSE = \\frac{1}{N} \\sum_{i=1}^{N} (y - y_{pred}) ^ 2\n",
    "$$\n",
    "で定義されます.\n",
    "### 提出方法\n",
    "以下のような形式のcsvファイル```submit.csv```をiLect上で提出してください.\n",
    "\n",
    "```\n",
    "quality\n",
    "[予測値1]\n",
    "[予測値2]\n",
    "...\n",
    "\n",
    "```\n",
    "\n",
    "注意点\n",
    "- 1行目はヘッダーです. 必ず```quality```と書いてください.\n",
    "- 2行目以降は, test.csvの順番と対応させる形で予測値を各行に1つずつ出力してください.\n",
    "- sample_submission.csvが提出形式のサンプルになので, こちらも参照してみてください.\n",
    "- **提出前にフォーマットが合っているか必ず確認してください**\n",
    "\n",
    "### 賞金\n",
    "```\n",
    "1位: 5000円\n",
    "2位: 4000円\n",
    "3位: 3000円\n",
    "```\n"
   ]
  },
  {
   "cell_type": "code",
   "execution_count": null,
   "metadata": {},
   "outputs": [],
   "source": []
  }
 ],
 "metadata": {
  "kernelspec": {
   "display_name": "Python 3",
   "language": "python",
   "name": "python3"
  },
  "language_info": {
   "codemirror_mode": {
    "name": "ipython",
    "version": 3
   },
   "file_extension": ".py",
   "mimetype": "text/x-python",
   "name": "python",
   "nbconvert_exporter": "python",
   "pygments_lexer": "ipython3",
   "version": "3.6.2"
  }
 },
 "nbformat": 4,
 "nbformat_minor": 2
}
