{
 "cells": [
  {
   "cell_type": "markdown",
   "metadata": {},
   "source": [
    "### 線形システムのEMアルゴリズム"
   ]
  },
  {
   "cell_type": "markdown",
   "metadata": {},
   "source": [
    "#### EMアルゴリズムの理解のためには\n",
    "* 動的システムのベイズ推論\n",
    "* 線形ガウシアンシステムについて\n",
    "* カルマンフィルターとRTSフィルタリング\n",
    "* イエンセンの不等式\n",
    "* MMアルゴリズム\n",
    "\n",
    "などの理解が必要"
   ]
  },
  {
   "cell_type": "markdown",
   "metadata": {},
   "source": [
    "#### 推論について\n",
    "\n",
    "目的: 現在のシステムの状態を今までの観測から推測\n",
    "\n",
    "* 状態空間モデルで表現されている。\n",
    "* システムの状態の初期値に関しては事前知識として与えられる。\n",
    "* 現在までの観測が存在\n",
    "\n",
    "推論: これらを用いて現在の状態の事後分布を推定することがやりたいこと"
   ]
  },
  {
   "cell_type": "markdown",
   "metadata": {},
   "source": [
    "#### ベイジアンフィルタリングの導出\n",
    "\n",
    "\\begin{align}\n",
    " p(x_t|y_{1:t})&=\\frac{p(y_t|x_t, y_{1:t-1})\\cdot p(x_t| y_{1:t-1})}{p(y_t|y_{1:t-1})} \\\\&= \\alpha\\cdot p(y_t|x_t, y_{1:t-1})\\cdot p(x_t| y_{1:t-1})\n",
    "\\end{align}"
   ]
  },
  {
   "cell_type": "markdown",
   "metadata": {},
   "source": [
    "$$\n",
    " p(y_t | x_t, y_{1:t-1}) = p(y_t | x_t)\n",
    "$$\n",
    "\n",
    "マルコフ過程なので$x_t$は十分統計量"
   ]
  },
  {
   "cell_type": "markdown",
   "metadata": {},
   "source": [
    "\\begin{align}\n",
    " p(x_t | y_{1:t-1}) &= \\int{p(x_t, x_{t-1} | y_{1:t-1})} dx_{t-1} \\\\\n",
    "                    &= \\int{[p(x_t | x_{t-1}, y_{1:t-1})\\cdot p(x_{t-1} | y_{1:t-1})]}dx_{t-1}\\\\\n",
    "                    &= \\int{[p(x_t | x_{t-1})\\cdot p(x_{t-1} | y_{1:t-1})]}dx_{t-1}\n",
    "\\end{align}"
   ]
  },
  {
   "cell_type": "markdown",
   "metadata": {},
   "source": [
    "変量$x_{t-1}$を導入したうえで周辺化を行う。これをベイズの規則とマルコフ過程の仮定により再帰的な更新式を得る。"
   ]
  },
  {
   "cell_type": "markdown",
   "metadata": {},
   "source": [
    "結局、\n",
    "$$\n",
    "  p(x_t|y_{1:t}) = \\alpha\\cdot p(y_t|x_t)\\cdot \\int{[p(x_t | x_t-1)\\cdot p(x_{t-1}| y_{1:t-1}]}dx_{t-1}\n",
    "$$\n",
    "という形により(事後分布)=(観測モデル)$\\times$(観測モデルと事前分布の積の積分)として表される"
   ]
  },
  {
   "cell_type": "markdown",
   "metadata": {},
   "source": [
    "$\\alpha$は異常検知などに使える量であるが今回は無視"
   ]
  },
  {
   "cell_type": "markdown",
   "metadata": {},
   "source": [
    "#### 予測とスムージング\n",
    "\n",
    "予測とスムージングは似ているがフィルタリングとは異なる。\n",
    "* フィルタリングは$p(x_t|y_{1:t})$を過去の観測から得るもの\n",
    "* 予測は$p(x_{t+s}|y_{1:t})$を得るもの\n",
    "* スムージングは全観測を既に得ている状態で過去の状態について推定するもの$p(x_t|y_{1:t+s})$"
   ]
  },
  {
   "cell_type": "markdown",
   "metadata": {},
   "source": [
    "#### ベイズ予測\n",
    "\\begin{align}\n",
    "p(x_{t+1}|y_{1:t})&=\\int{p(x_{t+1},x_t|y_{1:t})}dx_t \\\\\n",
    "                  &=\\int{[p(x_{t+1}|x_t)\\cdot p(x_t|y_{1:t})]}dx_t\n",
    "\\end{align}\n",
    "\n",
    "* 1ステップ先を予測するには積分は一回\n",
    "* kステップならk回\n",
    "* 基本的には多重積分は難しいが、正規分布は簡単"
   ]
  },
  {
   "cell_type": "markdown",
   "metadata": {},
   "source": [
    "#### スムージング\n",
    "* 再帰的な後ろ向き推定式を得る\n",
    "\n",
    "$$\n",
    "p(x_t|y_{1:T})=\\int{p(x_t, x_{t+1}|y_{1:T})}dx_{t+1}\n",
    "$$\n",
    "\n",
    "\\begin{align}\n",
    "p(x_t, x_{t+1}|y_{1:T}) &= p(x_t|x_{t+1}, y_{1:T})\\cdot p(x_{t+1}|y_{1:T}) \\\\\n",
    "                        &= p(x_t|x_{t+1}, y_{1:t})\\cdot p(x_{t+1}|y_{1:T}) \\\\\n",
    "                        &= \\frac{p(x_t, x_{t+1}|y_{1:t})}{p(x_{t+1}|y_{1:t})}\\cdot p(x_{t+1|y_{1:T}}) \\\\\n",
    "                        &= \\frac{p(x_{t+1}|x_t, y_{1:t})\\cdot p(x_t|y_{1:t})\\cdot p(x_{t+1}|y_{1:T})}{p(x_{t+1}|y_{1:t})}\n",
    "\\end{align}"
   ]
  },
  {
   "cell_type": "markdown",
   "metadata": {},
   "source": [
    "よって積分により以下の式を得る。\n",
    "$$\n",
    " p(x_t|y_{1:T})=\\int{\\frac{p(x_{t+1}|x_t)\\cdot p(x_t|y_{1:t})\\cdot p(x_{t+1}|y_{1:T})}{p(x_{t+1}|y_{1:t})}}dx_{t+1}\n",
    "$$"
   ]
  },
  {
   "cell_type": "markdown",
   "metadata": {},
   "source": []
  }
 ],
 "metadata": {
  "kernelspec": {
   "display_name": "Python 3",
   "language": "python",
   "name": "python3"
  },
  "language_info": {
   "codemirror_mode": {
    "name": "ipython",
    "version": 3
   },
   "file_extension": ".py",
   "mimetype": "text/x-python",
   "name": "python",
   "nbconvert_exporter": "python",
   "pygments_lexer": "ipython3",
   "version": "3.6.4"
  }
 },
 "nbformat": 4,
 "nbformat_minor": 2
}
